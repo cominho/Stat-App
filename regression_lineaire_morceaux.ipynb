{
 "cells": [
  {
   "attachments": {},
   "cell_type": "markdown",
   "metadata": {},
   "source": [
    "# Régression linéaire par morceau"
   ]
  },
  {
   "cell_type": "code",
   "execution_count": 1,
   "metadata": {},
   "outputs": [
    {
     "name": "stderr",
     "output_type": "stream",
     "text": [
      "c:\\Users\\elelo\\AppData\\Local\\Programs\\Python\\Python310\\lib\\site-packages\\scipy\\__init__.py:146: UserWarning: A NumPy version >=1.16.5 and <1.23.0 is required for this version of SciPy (detected version 1.23.1\n",
      "  warnings.warn(f\"A NumPy version >={np_minversion} and <{np_maxversion}\"\n"
     ]
    }
   ],
   "source": [
    "import pandas as pd \n",
    "import numpy as np\n",
    "import seaborn as sns\n",
    "import matplotlib.pyplot as plt\n",
    "import statsmodels.api as sm\n",
    "import sklearn.preprocessing \n",
    "from sklearn.linear_model import LinearRegression\n",
    "from sklearn.model_selection import train_test_split\n",
    "import sklearn.metrics\n",
    "from sklearn.preprocessing import StandardScaler\n",
    "from sklearn.linear_model import LinearRegression\n",
    "from sklearn.metrics import mean_squared_error, r2_score\n",
    "from statsmodels.regression.linear_model import OLS\n",
    "from sklearn.preprocessing import PolynomialFeatures\n",
    "from sklearn.model_selection import train_test_split\n",
    "from sklearn.preprocessing import scale\n",
    "import operator\n",
    "import sklearn.metrics as metrics\n",
    "from sklearn.tree import DecisionTreeRegressor "
   ]
  },
  {
   "attachments": {},
   "cell_type": "markdown",
   "metadata": {},
   "source": [
    "## Import BDD\n"
   ]
  },
  {
   "cell_type": "code",
   "execution_count": 2,
   "metadata": {},
   "outputs": [],
   "source": [
    "## Chargement des données énédis\n",
    "#chemin jérémie\n",
    "#enedis_final = pd.read_csv(\"/Users/jeremiedarracq/Stat-app/enedis_final.csv\",sep=\",\")\n",
    "#enedis_final = pd.read_csv(\"/Users/jeremiedarracq/Stat-app/enedis_final_3h.csv\",sep=\",\")\n",
    "\n",
    "#chemin elena\n",
    "enedis_final = pd.read_csv(\"Données/enedis_final.csv\",sep=\",\")\n",
    "\n",
    "#chemin côme\n",
    "#enedis = pd.read_csv(\"/Users/\",sep=\";\")\n"
   ]
  },
  {
   "cell_type": "code",
   "execution_count": 3,
   "metadata": {},
   "outputs": [
    {
     "name": "stderr",
     "output_type": "stream",
     "text": [
      "c:\\Users\\elelo\\AppData\\Local\\Programs\\Python\\Python310\\lib\\site-packages\\IPython\\core\\interactiveshell.py:3444: FutureWarning: In a future version of pandas all arguments of read_csv except for the argument 'filepath_or_buffer' will be keyword-only\n",
      "  exec(code_obj, self.user_global_ns, self.user_ns)\n"
     ]
    }
   ],
   "source": [
    "## Chargement des données méteo + modification du noms des régions\n",
    "#meteo_reg_df=pd.read_csv(\"/Users/jeremiedarracq/Stat-app/temperature_reg.csv\",\";\")\n",
    "meteo_reg_df=pd.read_csv(\"Données/temperature-quotidienne-regionale.csv\",\";\")\n",
    "\n",
    "\n",
    "## Récuperer toutes les régions de la BDD puis modification des noms\n",
    "regions=meteo_reg_df[\"region\"].unique()\n",
    "regions=list(regions)\n",
    "\n",
    "meteo_reg_df.loc[meteo_reg_df[\"region\"]==\"Nouvelle-Aquitaine\",\"region\"] = \"Nouvelle Aquitaine\"\n",
    "meteo_reg_df.loc[meteo_reg_df[\"region\"]==\"Grand Est\",\"region\"] = \"Grand-Est\"\n"
   ]
  },
  {
   "cell_type": "code",
   "execution_count": 4,
   "metadata": {},
   "outputs": [
    {
     "data": {
      "text/plain": [
       "Index(['horodate', 'region_x', 'code_region', 'total_energie_soutiree_wh',\n",
       "       'plage_de_puissance_souscrite', 'nb_points_soutirage',\n",
       "       'jour_max_du_mois_0_1', 'semaine_max_du_mois_0_1', 'profil',\n",
       "       'profil_type', 'date', 'code_reg', 'nom_reg', 'Ensemble',\n",
       "       'conso_moyenne', 'Code', 'Libellé',\n",
       "       'Part des \"artisans, commerçants, chefs d'entreprise\" dans la population 2018',\n",
       "       'Part des \"employés\" dans la population 2018',\n",
       "       'Part des \"ouvriers\" dans la population 2018',\n",
       "       'Part des \"retraités\" dans la population 2018',\n",
       "       'Part des \"agriculteurs exploitants\" dans la population 2018',\n",
       "       'Part des \"professions intermédiaires\" dans la population 2018',\n",
       "       'Part des \"autres sans activité professionnelle\" dans la population 2018',\n",
       "       'Part des \"autres sans activité professionnelle\" dans la population 2018.1',\n",
       "       'Part des \"cadres et professions intellectuelles supérieures\" dans la population 2018',\n",
       "       'Médiane du revenu disponible par UC 2018',\n",
       "       'Population au dernier recensement 2018', 'Part des 15-29 ans 2018',\n",
       "       'Part des 30-44 ans 2018', 'Part des 45-59 ans 2018',\n",
       "       'Part des 60-74 ans 2018', 'Part des 75 ans et plus 2018',\n",
       "       'Taux de chômage des 15 ans et plus (RP) 2018', 'tmoy'],\n",
       "      dtype='object')"
      ]
     },
     "execution_count": 4,
     "metadata": {},
     "output_type": "execute_result"
    }
   ],
   "source": [
    "enedis_final.columns"
   ]
  },
  {
   "attachments": {},
   "cell_type": "markdown",
   "metadata": {},
   "source": [
    "### Pré-processing"
   ]
  },
  {
   "cell_type": "code",
   "execution_count": 8,
   "metadata": {},
   "outputs": [],
   "source": [
    "def pre_processing(bdd,region): ## rajouter meteo_reg si changement de bbdd\n",
    "    enedis_region= bdd.loc[bdd.region_x == region]\n",
    "    enedis_region_new = enedis_region.groupby(\"horodate\")[\"total_energie_soutiree_wh\"].sum().reset_index()\n",
    "    #enedis_meteo_new = enedis_region.groupby(\"horodate\")[\"Température (°C)_x\"].mean().reset_index()\n",
    "    #enedis_meteo_new[\"tmoy\"] = enedis_meteo_new[\"Température (°C)_x\"]\n",
    "    enedis_region_new[\"date\"]= enedis_region_new[\"horodate\"].apply(lambda x : x[0:10])\n",
    "    meteo_reg_region= meteo_reg_df[meteo_reg_df.region==region]\n",
    "    enedis_prev_region = enedis_region_new.groupby(\"date\")[\"total_energie_soutiree_wh\"].sum().reset_index()\n",
    "    enedis_prev_cleen = enedis_prev_region.merge(meteo_reg_region,on=\"date\")\n",
    "\n",
    "    #standardisation des données\n",
    "    enedis_prev_cleen[\"tmoy_scaled\"]=scale(enedis_prev_cleen[\"tmoy\"])\n",
    "\n",
    "    return enedis_prev_cleen\n",
    "\n",
    "#pd.merge(enedis,socio,how='left',left_on=\"code_region\",right_on=\"Code\")"
   ]
  },
  {
   "cell_type": "code",
   "execution_count": 9,
   "metadata": {},
   "outputs": [],
   "source": [
    "enedis_IDF = pre_processing(enedis_final,\"Île-de-France\")\n",
    "enedis_HDF = pre_processing(enedis_final,\"Hauts-de-France\")\n",
    "enedis_PACA = pre_processing(enedis_final,\"Provence-Alpes-Côte d'Azur\")\n",
    "enedis_CVL = pre_processing(enedis_final,\"Centre-Val de Loire\")\n",
    "enedis_Normandie = pre_processing(enedis_final,\"Normandie\")\n",
    "enedis_Occitanie = pre_processing(enedis_final,\"Occitanie\")\n",
    "enedis_ARA = pre_processing(enedis_final,\"Auvergne-Rhône-Alpes\")\n",
    "enedis_BFC= pre_processing(enedis_final,\"Bourgogne-Franche-Comté\")\n",
    "enedis_NA = pre_processing(enedis_final,\"Nouvelle Aquitaine\")\n",
    "enedis_Bretagne = pre_processing(enedis_final,\"Bretagne\")\n",
    "enedis_GE = pre_processing(enedis_final,\"Grand-Est\")\n",
    "enedis_PDL = pre_processing(enedis_final,\"Pays de la Loire\")\n"
   ]
  },
  {
   "attachments": {},
   "cell_type": "markdown",
   "metadata": {},
   "source": [
    "## Calcul des seuils "
   ]
  },
  {
   "cell_type": "code",
   "execution_count": 2,
   "metadata": {},
   "outputs": [],
   "source": [
    "def calcul_seuil(df_reg):\n",
    "    \n",
    "    X = df_reg[[\"tmoy_scaled\"]].to_numpy()\n",
    "    Y = df_reg[[\"total_energie_soutiree_wh\"]].to_numpy()\n",
    "\n",
    "    model = DecisionTreeRegressor(random_state=0, max_depth=2)\n",
    "    model.fit(X,Y)\n",
    "\n",
    "    ## On trie les seuils\n",
    "    th = list(sorted(set(model.tree_.threshold)))\n",
    "    th += [(th[i] + th[i-1])/2 for i in range(1,len(th))]\n",
    "    th = list(sorted(th))\n",
    "    return(th[-1])\n"
   ]
  },
  {
   "cell_type": "code",
   "execution_count": 14,
   "metadata": {},
   "outputs": [],
   "source": [
    "seuil_IDF=calcul_seuil(enedis_IDF)\n",
    "seuil_HDF=calcul_seuil(enedis_HDF)\n",
    "seuil_PACA=calcul_seuil(enedis_PACA)\n",
    "seuil_CVL=calcul_seuil(enedis_CVL)\n",
    "seuil_Normandie=calcul_seuil(enedis_Normandie)\n",
    "seuil_Occitanie=calcul_seuil(enedis_Occitanie)\n",
    "seuil_ARA=calcul_seuil(enedis_ARA)\n",
    "seuil_BFC=calcul_seuil(enedis_BFC)\n",
    "seuil_NA=calcul_seuil(enedis_NA)\n",
    "seuil_Bretagne=calcul_seuil(enedis_Bretagne)\n",
    "seuil_GE=calcul_seuil(enedis_GE)\n",
    "seuil_PDL=calcul_seuil(enedis_PDL)"
   ]
  },
  {
   "attachments": {},
   "cell_type": "markdown",
   "metadata": {},
   "source": [
    "## Regression linéaire par morceaux "
   ]
  },
  {
   "cell_type": "code",
   "execution_count": 15,
   "metadata": {},
   "outputs": [],
   "source": [
    "def creation_df(df_region,seuil):\n",
    "\n",
    "    ## Création des indicatrices\n",
    "    Y = df_region[\"total_energie_soutiree_wh\"].to_numpy()\n",
    "    X = enedis_IDF[\"tmoy_scaled\"].to_numpy()\n",
    "\n",
    "    X_train, X_test, Y_train, Y_test = train_test_split(X, Y, test_size = 0.2, random_state=5)\n",
    "    X_train_affiche=X_train\n",
    "    X_test_affiche = X_test\n",
    "    \n",
    "    ## Indicatrice pour Train\n",
    "    indicsupto_train= [ele if ele>seuil else 0 for ele in X_train]\n",
    "    indicinfto_train= [ele if ele<=seuil else 0 for ele in X_train]\n",
    "\n",
    "    ## Indicatrice pour Test\n",
    "    indicsupto_test= [ele if ele>seuil else 0 for ele in X_test]\n",
    "    indicinfto_test= [ele if ele<=seuil else 0 for ele in X_test]\n",
    "\n",
    "    ##  Transformation en df pour l'échantillon train\n",
    "    df_x1_train = pd.DataFrame(indicinfto_train, columns = ['Indicatrice < seuil'])\n",
    "    df_x2_train = pd.DataFrame(indicsupto_train, columns = ['Indicatrice >= seuil'])\n",
    "\n",
    "    X_train = pd.DataFrame(np.c_[df_x1_train[\"Indicatrice < seuil\"],df_x2_train[\"Indicatrice >= seuil\"]],columns = [\"Indicatrice < seuil\",\"Indicatrice >= seuil\"])\n",
    "\n",
    "    ##  Transformation en df pour l'échantillon test\n",
    "    df_x1_test = pd.DataFrame(indicinfto_test, columns = ['Indicatrice < seuil'])\n",
    "    df_x2_test = pd.DataFrame(indicsupto_test, columns = ['Indicatrice >= seuil'])\n",
    "\n",
    "    X_test = pd.DataFrame(np.c_[df_x1_test[\"Indicatrice < seuil\"],df_x2_test[\"Indicatrice >= seuil\"]],columns = [\"Indicatrice < seuil\",\"Indicatrice >= seuil\"])\n",
    "\n",
    "    return(X_train,X_test,X_test_affiche,X_train_affiche,Y_train,Y_test)"
   ]
  },
  {
   "cell_type": "code",
   "execution_count": 16,
   "metadata": {},
   "outputs": [],
   "source": [
    "## Création des échantillons d'apprentissages et de tests\n",
    "\n",
    "X_train_ARA, X_test_ARA, X_test_affiche_ARA,X_train_affiche_ARA,Y_train_ARA, Y_test_ARA =creation_df(enedis_ARA,seuil_ARA)\n",
    "X_train_IDF, X_test_IDF,X_test_affiche_IDF,X_train_affiche_IDF, Y_train_IDF, Y_test_IDF =creation_df(enedis_IDF,seuil_IDF)\n",
    "X_train_PACA, X_test_PACA, X_test_affiche_PACA,X_train_affiche_PACA,Y_train_PACA, Y_test_PACA =creation_df(enedis_PACA,seuil_PACA)\n",
    "X_train_HDF, X_test_HDF,X_test_affiche_HDF,X_train_affiche_HDF, Y_train_HDF, Y_test_HDF =creation_df(enedis_HDF,seuil_HDF)\n",
    "X_train_NA, X_test_NA,X_test_affiche_NA,X_train_affiche_NA, Y_train_NA, Y_test_NA =creation_df(enedis_NA,seuil_NA)\n",
    "X_train_GE, X_test_GE,X_test_affiche_GE,X_train_affiche_GE, Y_train_GE, Y_test_GE =creation_df(enedis_GE,seuil_GE)\n",
    "X_train_Bretagne, X_test_Bretagne, X_test_affiche_Bretagne,X_train_affiche_Bretagne,Y_train_Bretagne, Y_test_Bretagne =creation_df(enedis_Bretagne,seuil_Bretagne)\n",
    "X_train_CVL, X_test_CVL, X_test_affiche_CVL,X_train_affiche_CVL,Y_train_CVL, Y_test_CVL =creation_df(enedis_CVL,seuil_CVL)\n",
    "X_train_BFC, X_test_BFC, X_test_affiche_BFC,X_train_affiche_BFC,Y_train_BFC, Y_test_BFC =creation_df(enedis_BFC,seuil_BFC)\n",
    "X_train_Occitanie, X_test_Occitanie, X_test_affiche_Occitanie,X_train_affiche_Occitanie,Y_train_Occitanie, Y_test_Occitanie =creation_df(enedis_Occitanie,seuil_Occitanie)\n",
    "X_train_Normandie, X_test_Normandie,X_test_affiche_Normandie,X_train_affiche_Normandier, Y_train_Normandie, Y_test_Normandie =creation_df(enedis_Normandie,seuil_Normandie)\n",
    "X_train_PDL, X_test_PDL, X_test_affiche_PDL,X_train_affiche_PDL,Y_train_PDL, Y_test_PDL =creation_df(enedis_PDL,seuil_PDL)\n"
   ]
  },
  {
   "attachments": {},
   "cell_type": "markdown",
   "metadata": {},
   "source": [
    "### Création du modèle :"
   ]
  },
  {
   "cell_type": "code",
   "execution_count": 22,
   "metadata": {},
   "outputs": [],
   "source": [
    "def modele_regression(X_train,X_test,X_test_affiche,Y_train,Y_test,df_region,region):\n",
    "\n",
    "    Y = df_region[\"total_energie_soutiree_wh\"].to_numpy()\n",
    "    #X_train_sm = sm.add_constant(X_train)\n",
    "    model = sm.OLS(Y_train,X_train).fit()\n",
    "    print_model = model.summary()\n",
    "    print(print_model)\n",
    "\n",
    "    lm = LinearRegression(fit_intercept=True) \n",
    "    lm.fit(X_train, Y_train) \n",
    "    Y_predicted = lm.predict(X_test)\n",
    "\n",
    "\n",
    "    # Évaluation du modèle\n",
    "    rmse = mean_squared_error(Y_test, Y_predicted)\n",
    "    r2 = r2_score(Y_test, Y_predicted)\n",
    "    # Affichage des valeurs\n",
    "    print(\"Pente : \" ,lm.coef_)\n",
    "    print(\"Ordonnée à l'origine : \", lm.intercept_)\n",
    "    print(\"Racine carrée de l'erreur quadratique moyenne : \", rmse)\n",
    "    print('Sccore R2 : ', r2)\n",
    "    \n",
    "    # Tracée des valeurs\n",
    "    # Points de données\n",
    "    plt.scatter(enedis_IDF[\"tmoy_scaled\"], Y, s=10)\n",
    "    plt.xlabel('Température moyenne standardisée')\n",
    "    plt.ylabel(\"Total d'energie soutiré en Méga Watt\")\n",
    "    plt.title(\"Regression par morceaux pour la région \"+region)\n",
    "    # Valeurs prédites\n",
    "    plt.scatter(X_test_affiche, Y_predicted, color='r')\n",
    "    plt.show()"
   ]
  },
  {
   "cell_type": "code",
   "execution_count": 23,
   "metadata": {},
   "outputs": [
    {
     "name": "stdout",
     "output_type": "stream",
     "text": [
      "                                 OLS Regression Results                                \n",
      "=======================================================================================\n",
      "Dep. Variable:                      y   R-squared (uncentered):                   0.791\n",
      "Model:                            OLS   Adj. R-squared (uncentered):              0.790\n",
      "Method:                 Least Squares   F-statistic:                              656.8\n",
      "Date:                Thu, 16 Feb 2023   Prob (F-statistic):                   1.08e-118\n",
      "Time:                        17:14:44   Log-Likelihood:                         -8910.0\n",
      "No. Observations:                 349   AIC:                                  1.782e+04\n",
      "Df Residuals:                     347   BIC:                                  1.783e+04\n",
      "Df Model:                           2                                                  \n",
      "Covariance Type:            nonrobust                                                  \n",
      "========================================================================================\n",
      "                           coef    std err          t      P>|t|      [0.025      0.975]\n",
      "----------------------------------------------------------------------------------------\n",
      "Indicatrice < seuil  -7.333e+10   2.25e+09    -32.550      0.000   -7.78e+10   -6.89e+10\n",
      "Indicatrice >= seuil  3.672e+10    2.3e+09     15.938      0.000    3.22e+10    4.13e+10\n",
      "==============================================================================\n",
      "Omnibus:                        7.364   Durbin-Watson:                   1.348\n",
      "Prob(Omnibus):                  0.025   Jarque-Bera (JB):                7.207\n",
      "Skew:                          -0.320   Prob(JB):                       0.0272\n",
      "Kurtosis:                       3.295   Cond. No.                         1.02\n",
      "==============================================================================\n",
      "\n",
      "Notes:\n",
      "[1] R² is computed without centering (uncentered) since the model does not contain a constant.\n",
      "[2] Standard Errors assume that the covariance matrix of the errors is correctly specified.\n",
      "Pente :  [-2.99151817e+10 -9.79899480e+09]\n",
      "Ordonnée à l'origine :  52521591356.107765\n",
      "Racine carrée de l'erreur quadratique moyenne :  1.2777762325025427e+20\n",
      "Sccore R2 :  0.7839347870754266\n"
     ]
    },
    {
     "data": {
      "image/png": "[encoded data removed]",
      "text/plain": [
       "<Figure size 432x288 with 1 Axes>"
      ]
     },
     "metadata": {
      "needs_background": "light"
     },
     "output_type": "display_data"
    }
   ],
   "source": [
    "modele_regression(X_train_IDF,X_test_IDF,X_test_affiche_IDF,Y_train_IDF,Y_test_IDF,enedis_IDF,\"IDF\")"
   ]
  },
  {
   "cell_type": "code",
   "execution_count": 24,
   "metadata": {},
   "outputs": [
    {
     "name": "stdout",
     "output_type": "stream",
     "text": [
      "                                 OLS Regression Results                                \n",
      "=======================================================================================\n",
      "Dep. Variable:                      y   R-squared (uncentered):                   0.799\n",
      "Model:                            OLS   Adj. R-squared (uncentered):              0.798\n",
      "Method:                 Least Squares   F-statistic:                              690.1\n",
      "Date:                Thu, 16 Feb 2023   Prob (F-statistic):                   1.16e-121\n",
      "Time:                        17:15:13   Log-Likelihood:                         -8689.9\n",
      "No. Observations:                 349   AIC:                                  1.738e+04\n",
      "Df Residuals:                     347   BIC:                                  1.739e+04\n",
      "Df Model:                           2                                                  \n",
      "Covariance Type:            nonrobust                                                  \n",
      "========================================================================================\n",
      "                           coef    std err          t      P>|t|      [0.025      0.975]\n",
      "----------------------------------------------------------------------------------------\n",
      "Indicatrice < seuil  -3.961e+10    1.2e+09    -33.031      0.000    -4.2e+10   -3.73e+10\n",
      "Indicatrice >= seuil  2.085e+10   1.23e+09     17.008      0.000    1.84e+10    2.33e+10\n",
      "==============================================================================\n",
      "Omnibus:                        9.887   Durbin-Watson:                   1.390\n",
      "Prob(Omnibus):                  0.007   Jarque-Bera (JB):               10.054\n",
      "Skew:                          -0.413   Prob(JB):                      0.00656\n",
      "Kurtosis:                       3.091   Cond. No.                         1.02\n",
      "==============================================================================\n",
      "\n",
      "Notes:\n",
      "[1] R² is computed without centering (uncentered) since the model does not contain a constant.\n",
      "[2] Standard Errors assume that the covariance matrix of the errors is correctly specified.\n",
      "Pente :  [-1.61265854e+10 -4.28684793e+09]\n",
      "Ordonnée à l'origine :  28236213262.47108\n",
      "Racine carrée de l'erreur quadratique moyenne :  3.6799767845827842e+19\n",
      "Sccore R2 :  0.7703938687816514\n"
     ]
    },
    {
     "data": {
      "image/png": "[encoded data removed]",
      "text/plain": [
       "<Figure size 432x288 with 1 Axes>"
      ]
     },
     "metadata": {
      "needs_background": "light"
     },
     "output_type": "display_data"
    }
   ],
   "source": [
    "modele_regression(X_train_HDF,X_test_HDF,X_test_affiche_HDF,Y_train_HDF,Y_test_HDF,enedis_HDF,\"Hauts de France\")"
   ]
  },
  {
   "cell_type": "code",
   "execution_count": 25,
   "metadata": {},
   "outputs": [
    {
     "name": "stdout",
     "output_type": "stream",
     "text": [
      "                                 OLS Regression Results                                \n",
      "=======================================================================================\n",
      "Dep. Variable:                      y   R-squared (uncentered):                   0.758\n",
      "Model:                            OLS   Adj. R-squared (uncentered):              0.757\n",
      "Method:                 Least Squares   F-statistic:                              544.5\n",
      "Date:                Thu, 16 Feb 2023   Prob (F-statistic):                   9.57e-108\n",
      "Time:                        17:15:49   Log-Likelihood:                         -8792.6\n",
      "No. Observations:                 349   AIC:                                  1.759e+04\n",
      "Df Residuals:                     347   BIC:                                  1.760e+04\n",
      "Df Model:                           2                                                  \n",
      "Covariance Type:            nonrobust                                                  \n",
      "========================================================================================\n",
      "                           coef    std err          t      P>|t|      [0.025      0.975]\n",
      "----------------------------------------------------------------------------------------\n",
      "Indicatrice < seuil  -4.645e+10   1.62e+09    -28.739      0.000   -4.96e+10   -4.33e+10\n",
      "Indicatrice >= seuil  2.657e+10   1.64e+09     16.220      0.000    2.33e+10    2.98e+10\n",
      "==============================================================================\n",
      "Omnibus:                        0.748   Durbin-Watson:                   1.301\n",
      "Prob(Omnibus):                  0.688   Jarque-Bera (JB):                0.534\n",
      "Skew:                          -0.069   Prob(JB):                        0.766\n",
      "Kurtosis:                       3.134   Cond. No.                         1.01\n",
      "==============================================================================\n",
      "\n",
      "Notes:\n",
      "[1] R² is computed without centering (uncentered) since the model does not contain a constant.\n",
      "[2] Standard Errors assume that the covariance matrix of the errors is correctly specified.\n",
      "Pente :  [-1.89950865e+10 -2.34435278e+09]\n",
      "Ordonnée à l'origine :  34118428956.915237\n",
      "Racine carrée de l'erreur quadratique moyenne :  7.497152319542963e+19\n",
      "Sccore R2 :  0.6139932618089511\n"
     ]
    },
    {
     "data": {
      "image/png": "[encoded data removed]",
      "text/plain": [
       "<Figure size 432x288 with 1 Axes>"
      ]
     },
     "metadata": {
      "needs_background": "light"
     },
     "output_type": "display_data"
    }
   ],
   "source": [
    "modele_regression(X_train_PACA,X_test_PACA,X_test_affiche_PACA,Y_train_PACA,Y_test_PACA,enedis_PACA,\"PACA\")"
   ]
  }
 ],
 "metadata": {
  "kernelspec": {
   "display_name": "Python 3",
   "language": "python",
   "name": "python3"
  },
  "language_info": {
   "codemirror_mode": {
    "name": "ipython",
    "version": 3
   },
   "file_extension": ".py",
   "mimetype": "text/x-python",
   "name": "python",
   "nbconvert_exporter": "python",
   "pygments_lexer": "ipython3",
   "version": "3.10.0"
  },
  "orig_nbformat": 4,
  "vscode": {
   "interpreter": {
    "hash": "809c05bf197248844069ca010303a407c57ade7aa07b41750c0b87641ddc144b"
   }
  }
 },
 "nbformat": 4,
 "nbformat_minor": 2
}

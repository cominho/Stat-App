{
 "cells": [
  {
   "attachments": {},
   "cell_type": "markdown",
   "metadata": {},
   "source": [
    "# Construction des BDD pour le Machine Learning/régression"
   ]
  },
  {
   "attachments": {},
   "cell_type": "markdown",
   "metadata": {},
   "source": [
    "Dans ce notebook, nous allons encoder les variables catégorielles des bdd à l'aide du one hot encoding pour pouvoir utiliser les variables catégorielles dans les régressions."
   ]
  },
  {
   "cell_type": "code",
   "execution_count": 6,
   "metadata": {},
   "outputs": [
    {
     "name": "stderr",
     "output_type": "stream",
     "text": [
      "c:\\Users\\elelo\\AppData\\Local\\Programs\\Python\\Python310\\lib\\site-packages\\scipy\\__init__.py:146: UserWarning: A NumPy version >=1.16.5 and <1.23.0 is required for this version of SciPy (detected version 1.23.1\n",
      "  warnings.warn(f\"A NumPy version >={np_minversion} and <{np_maxversion}\"\n"
     ]
    }
   ],
   "source": [
    "import pandas as pd\n",
    "from sklearn.preprocessing import OneHotEncoder"
   ]
  },
  {
   "cell_type": "code",
   "execution_count": 10,
   "metadata": {},
   "outputs": [],
   "source": [
    "enedis_IDF_6=pd.read_csv(\"Données/data_conso_moyenne/data_conso_6kva_IDF.csv\")\n",
    "enedis_HDF_6=pd.read_csv(\"Données/data_conso_moyenne/data_conso_6kva_HDF.csv\")\n",
    "enedis_PACA_6=pd.read_csv(\"Données/data_conso_moyenne/data_conso_6kva_PACA.csv\")"
   ]
  },
  {
   "attachments": {},
   "cell_type": "markdown",
   "metadata": {},
   "source": [
    "## 1. Construction de la bdd pour \"Jour\" :"
   ]
  },
  {
   "cell_type": "code",
   "execution_count": 14,
   "metadata": {},
   "outputs": [],
   "source": [
    "def creation_bdd_one_hot_jour(bdd_region,nom_court,kva):\n",
    "    # Création d'un ensemble de données fictif avec une variable catégorielle\n",
    "    Xdate =bdd_region[\"date\"].to_numpy()\n",
    "    Xdate=Xdate.reshape(-1, 1)\n",
    "\n",
    "    # Création de l'objet OneHotEncoder\n",
    "    encoder = OneHotEncoder()\n",
    "\n",
    "    # Encodage des données avec OneHotEncoder\n",
    "    X_encoded = encoder.fit_transform(Xdate)\n",
    "    oneHot=pd.DataFrame(X_encoded.toarray(),index=bdd_region.index,columns=[\"jour_\"+str(i+1) for i in range(len(X_encoded.toarray()))])\n",
    "    oneHot[\"indice\"]=oneHot.index\n",
    "    bdd_region[\"indice\"]=bdd_region.index\n",
    "    bdd_region=bdd_region.merge(oneHot,on=\"indice\")\n",
    "    bdd_region.to_csv(\"Données/data_one_hot_encoded/data_one_hot_encoded_jour_\"+kva+\"_\"+nom_court+\".csv\",index=False)"
   ]
  },
  {
   "cell_type": "code",
   "execution_count": 15,
   "metadata": {},
   "outputs": [],
   "source": [
    "creation_bdd_one_hot_jour(enedis_IDF_6,\"IDF\",'6kva')\n",
    "creation_bdd_one_hot_jour(enedis_HDF_6,\"HDF\",'6kva')\n",
    "creation_bdd_one_hot_jour(enedis_PACA_6,\"PACA\",'6kva')"
   ]
  },
  {
   "attachments": {},
   "cell_type": "markdown",
   "metadata": {},
   "source": [
    "## 2. Construction de la bdd pour \"heure par 30min\" et \"mois\" :"
   ]
  },
  {
   "attachments": {},
   "cell_type": "markdown",
   "metadata": {},
   "source": [
    "On construit d'abord la bdd de conso moyenne par 30 min :"
   ]
  },
  {
   "cell_type": "code",
   "execution_count": 24,
   "metadata": {},
   "outputs": [],
   "source": [
    "def bdd_30min(enedis_final,region):    \n",
    "    conso_region=enedis_final[enedis_final[\"region_x\"]==region]\n",
    "    temperature=enedis_final[[\"date\",\"region_x\",\"tmoy\"]]\n",
    "    temperature_region=temperature[temperature.region_x==region]\n",
    "    temperature_region.drop_duplicates(inplace=True)\n",
    "\n",
    "\n",
    "    conso_region[\"heure\"]=enedis_final[\"horodate\"].apply(lambda x : x[11:16])\n",
    "\n",
    "    nb_contrat=conso_region.nb_points_soutirage.mean()\n",
    "\n",
    "    total_conso_region=conso_region.groupby([\"date\",\"heure\"])[\"total_energie_soutiree_wh\"].sum().reset_index() # pour chaque jour, on calcule la conso totale pour chaque heure\n",
    "    total_conso_region[\"mois\"]=total_conso_region[\"date\"].apply(lambda x : x[5:7])\n",
    "    total_conso_region[\"res_conso_moyenne\"]=total_conso_region.total_energie_soutiree_wh/nb_contrat # conso moyenne soutirée par contrat pour chaque 30min\n",
    "\n",
    "    total_conso_region=total_conso_region.merge(temperature_region,on=\"date\",how=\"right\")\n",
    "\n",
    "    return(total_conso_region)"
   ]
  },
  {
   "cell_type": "code",
   "execution_count": 34,
   "metadata": {},
   "outputs": [],
   "source": [
    "enedis_final_6kva=pd.read_csv(\"Données/enedis_filtered_6kva.csv\",sep=\",\")"
   ]
  },
  {
   "cell_type": "code",
   "execution_count": 35,
   "metadata": {},
   "outputs": [
    {
     "name": "stderr",
     "output_type": "stream",
     "text": [
      "c:\\Users\\elelo\\AppData\\Local\\Programs\\Python\\Python310\\lib\\site-packages\\pandas\\util\\_decorators.py:311: SettingWithCopyWarning: \n",
      "A value is trying to be set on a copy of a slice from a DataFrame\n",
      "\n",
      "See the caveats in the documentation: https://pandas.pydata.org/pandas-docs/stable/user_guide/indexing.html#returning-a-view-versus-a-copy\n",
      "  return func(*args, **kwargs)\n",
      "C:\\Users\\elelo\\AppData\\Local\\Temp/ipykernel_3380/3971548881.py:8: SettingWithCopyWarning: \n",
      "A value is trying to be set on a copy of a slice from a DataFrame.\n",
      "Try using .loc[row_indexer,col_indexer] = value instead\n",
      "\n",
      "See the caveats in the documentation: https://pandas.pydata.org/pandas-docs/stable/user_guide/indexing.html#returning-a-view-versus-a-copy\n",
      "  conso_region[\"heure\"]=enedis_final[\"horodate\"].apply(lambda x : x[11:16])\n"
     ]
    }
   ],
   "source": [
    "enedis_IDF_30=bdd_30min(enedis_final_6kva,\"Île-de-France\")\n",
    "enedis_HDF_30=bdd_30min(enedis_final_6kva,\"Hauts-de-France\")\n",
    "enedis_PACA_30=bdd_30min(enedis_final_6kva,\"Provence-Alpes-Côte d'Azur\")"
   ]
  },
  {
   "cell_type": "code",
   "execution_count": 41,
   "metadata": {},
   "outputs": [],
   "source": [
    "def creation_bdd_one_hot_heure_mois(bdd_region,nom_court,kva):\n",
    "    # Création d'un ensemble de données fictif avec une variable catégorielle\n",
    "    Xheure =bdd_region[\"heure\"].to_numpy()\n",
    "    Xheure=Xheure.reshape(-1, 1)\n",
    "\n",
    "    Xmois =bdd_region[\"mois\"].to_numpy()\n",
    "    Xmois=Xmois.reshape(-1, 1)\n",
    "\n",
    "    # Création de l'objet OneHotEncoder\n",
    "    encoder = OneHotEncoder()\n",
    "\n",
    "    # Encodage des données avec OneHotEncoder\n",
    "    X_encoded_heure = encoder.fit_transform(Xheure)\n",
    "\n",
    "    oneHot_heure=pd.DataFrame(X_encoded_heure.toarray(),index=bdd_region.index,columns=[\"heure_\"+str(i+1) for i in range(X_encoded_heure.shape[1])])\n",
    "    oneHot_heure[\"indice\"]=oneHot_heure.index\n",
    "    bdd_region[\"indice\"]=bdd_region.index\n",
    "    bdd_region=bdd_region.merge(oneHot_heure,on=\"indice\")\n",
    "    \n",
    "\n",
    "    X_encoded_mois = encoder.fit_transform(Xmois)\n",
    "\n",
    "    oneHot_mois=pd.DataFrame(X_encoded_mois.toarray(),index=bdd_region.index,columns=[\"mois_\"+str(i+1) for i in range(X_encoded_mois.shape[1])])\n",
    "    oneHot_mois[\"indice\"]=oneHot_mois.index\n",
    "\n",
    "    bdd_region=bdd_region.merge(oneHot_mois,on=\"indice\")\n",
    "    bdd_region.to_csv(\"Données/data_one_hot_encoded/data_one_hot_encoded_heure_mois_\"+kva+\"_\"+nom_court+\".csv\",index=False)\n"
   ]
  },
  {
   "cell_type": "code",
   "execution_count": 42,
   "metadata": {},
   "outputs": [],
   "source": [
    "creation_bdd_one_hot_heure_mois(enedis_IDF_30,\"IDF\",'6kva')\n",
    "creation_bdd_one_hot_heure_mois(enedis_HDF_30,\"HDF\",'6kva')\n",
    "creation_bdd_one_hot_heure_mois(enedis_PACA_30,\"PACA\",'6kva')"
   ]
  }
 ],
 "metadata": {
  "kernelspec": {
   "display_name": "Python 3",
   "language": "python",
   "name": "python3"
  },
  "language_info": {
   "codemirror_mode": {
    "name": "ipython",
    "version": 3
   },
   "file_extension": ".py",
   "mimetype": "text/x-python",
   "name": "python",
   "nbconvert_exporter": "python",
   "pygments_lexer": "ipython3",
   "version": "3.10.0"
  },
  "orig_nbformat": 4
 },
 "nbformat": 4,
 "nbformat_minor": 2
}
